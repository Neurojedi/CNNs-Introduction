{
 "cells": [
  {
   "cell_type": "markdown",
   "id": "e8fe5cf4",
   "metadata": {
    "id": "e8fe5cf4"
   },
   "source": [
    "# Fundamentals of Convolutional Neural Networks 2 - Pooling and Dense Layers"
   ]
  },
  {
   "cell_type": "markdown",
   "id": "39f1ddcb",
   "metadata": {},
   "source": [
    "Welcome to the second notebook on Convolutional Neural Networks. In this notebook, we will explore Pooling and Dense Layers."
   ]
  },
  {
   "cell_type": "markdown",
   "id": "6e17711d",
   "metadata": {
    "id": "6e17711d"
   },
   "source": [
    "## Pooling Layers\n",
    "\n",
    "We previously saw that we can increase the downsampling capability of our convolutional layer by increasing the stride parameter. Another way to add downsampling to our convolutional neural network, which is often used is the pooling operation. The pooling operation is quite easy to grasp since we are familiar with the concept of convolution now. In pooling layers, every neuron is connected to only a unique, limited number of the neurons in the previous layer (so these layers also have a receptive field just like convolutional layers). The neurons in the pooling layer have similar parameters to convolutional layers as well. However, neurons in pooling layers unlike the convolutional layers, use a hardcoded aggregation function such as max or min. Let's see an illustration of this operation.\n",
    "\n",
    "<img src=\"imgs/gif4.gif\" width=\"40%\">\n",
    "\n",
    "<a href=\"https://pub.towardsai.net/introduction-to-pooling-layers-in-cnn-dafe61eabe34\"> Source </a>\n",
    "\n",
    "The most commonly used two pooling techniques are illustrated above. Similar to the convolutional layers, we again slide a kernel over unique patches of the input feature map (observe that stride is set to 2x2, which indicates we use a kernel with a step size of 2 in both height and width axis), but this time instead of using a learnable kernel to transform local patches, we use a hardcoded operation either by calculating the max value of each patch or the average. Moreover, pooling layers generally work on each color channel separately and they only reduce the spatial dimensionality of the data.\n",
    "\n",
    "Let's use both of these techniques starting with `keras.layers.MaxPool2D()`. "
   ]
  },
  {
   "cell_type": "markdown",
   "id": "71d5c57f",
   "metadata": {
    "id": "71d5c57f"
   },
   "source": [
    "Firstly, let's load Cifar10 dataset again."
   ]
  },
  {
   "cell_type": "code",
   "execution_count": null,
   "id": "f47f4e79",
   "metadata": {
    "id": "f47f4e79",
    "outputId": "6cd3bbd3-dc61-4943-fcb4-e2d19316bf5d"
   },
   "outputs": [
    {
     "data": {
      "text/plain": [
       "<matplotlib.image.AxesImage at 0x19d587ede80>"
      ]
     },
     "execution_count": 2,
     "metadata": {},
     "output_type": "execute_result"
    },
    {
     "data": {
      "image/png": "[encoded data removed]",
      "text/plain": [
       "<Figure size 432x288 with 1 Axes>"
      ]
     },
     "metadata": {
      "needs_background": "light"
     },
     "output_type": "display_data"
    }
   ],
   "source": [
    "import tensorflow as tf\n",
    "import matplotlib.pyplot as plt\n",
    "(x_train, y_train), (x_test, y_test) = tf.keras.datasets.cifar10.load_data()\n",
    "sample=x_train[:2,:,:,:]\n",
    "plt.imshow(sample[0,:,:,:])"
   ]
  },
  {
   "cell_type": "markdown",
   "id": "2707d392",
   "metadata": {
    "id": "2707d392"
   },
   "source": [
    "Just as `keras.layers.Conv2D()` we can define the size, padding type and stride parameters of `tf.keras.layers.MaxPool2D()` but first let's start off with the default setting."
   ]
  },
  {
   "cell_type": "code",
   "execution_count": null,
   "id": "8a6d6589",
   "metadata": {
    "id": "8a6d6589"
   },
   "outputs": [],
   "source": [
    "maxpool2D = tf.keras.layers.MaxPool2D()"
   ]
  },
  {
   "cell_type": "code",
   "execution_count": null,
   "id": "e0255c4c",
   "metadata": {
    "id": "e0255c4c"
   },
   "outputs": [],
   "source": [
    "output = maxpool2D(sample)"
   ]
  },
  {
   "cell_type": "code",
   "execution_count": null,
   "id": "23131d23",
   "metadata": {
    "id": "23131d23",
    "outputId": "963a19a9-5eef-46d4-a8c6-3b5a2900e69f"
   },
   "outputs": [
    {
     "data": {
      "text/plain": [
       "TensorShape([2, 16, 16, 3])"
      ]
     },
     "execution_count": 5,
     "metadata": {},
     "output_type": "execute_result"
    }
   ],
   "source": [
    "output.shape"
   ]
  },
  {
   "cell_type": "code",
   "execution_count": null,
   "id": "7bce1bb6",
   "metadata": {
    "id": "7bce1bb6",
    "outputId": "2d158e38-d680-4125-b50b-7ba16abac2f7"
   },
   "outputs": [
    {
     "data": {
      "text/plain": [
       "(-0.5, 15.5, 15.5, -0.5)"
      ]
     },
     "execution_count": 6,
     "metadata": {},
     "output_type": "execute_result"
    },
    {
     "data": {
      "image/png": "[encoded data removed]",
      "text/plain": [
       "<Figure size 504x504 with 2 Axes>"
      ]
     },
     "metadata": {
      "needs_background": "light"
     },
     "output_type": "display_data"
    }
   ],
   "source": [
    "fig, (ax1, ax2) = plt.subplots(1,2,figsize=(7,7))\n",
    "ax1.imshow(sample[0,:,:,:])\n",
    "ax1.axis(\"off\")\n",
    "ax2.imshow(output[0,:,:,:])\n",
    "ax2.axis(\"off\")"
   ]
  },
  {
   "cell_type": "markdown",
   "id": "d9043933",
   "metadata": {
    "id": "d9043933"
   },
   "source": [
    "The default parameter choices of `tf.keras.layers.MaxPool2D()` is 2x2 kernel with a stride of two and valid padding. This default parameters reduced the size of our image two times in width and height. We can tune these parameters just as we tuned the parameters of `tf.keras.layers.Conv2D()`."
   ]
  },
  {
   "cell_type": "code",
   "execution_count": null,
   "id": "4f86d38f",
   "metadata": {
    "id": "4f86d38f"
   },
   "outputs": [],
   "source": [
    "maxpool2D = tf.keras.layers.MaxPool2D(pool_size=2,strides=2,padding=\"valid\") "
   ]
  },
  {
   "cell_type": "markdown",
   "id": "ad27bfcc",
   "metadata": {
    "id": "ad27bfcc"
   },
   "source": [
    "To see all the parameters that you can tune, check out the [documentation](https://www.tensorflow.org/api_docs/python/tf/keras/layers/MaxPool2D)."
   ]
  },
  {
   "cell_type": "markdown",
   "id": "8c790bea",
   "metadata": {
    "id": "8c790bea"
   },
   "source": [
    "Let's move on to `tf.keras.layers.AveragePooling2D()`."
   ]
  },
  {
   "cell_type": "code",
   "execution_count": null,
   "id": "baed61b5",
   "metadata": {
    "id": "baed61b5"
   },
   "outputs": [],
   "source": [
    "avgpool2D = tf.keras.layers.AveragePooling2D()"
   ]
  },
  {
   "cell_type": "code",
   "execution_count": null,
   "id": "6b01cf20",
   "metadata": {
    "id": "6b01cf20",
    "outputId": "f3ab7a19-78c5-4ae4-be84-abe4a00a5960"
   },
   "outputs": [
    {
     "name": "stdout",
     "output_type": "stream",
     "text": [
      "WARNING:tensorflow:Layer average_pooling2d is casting an input tensor from dtype float64 to the layer's dtype of float32, which is new behavior in TensorFlow 2.  The layer has dtype float32 because its dtype defaults to floatx.\n",
      "\n",
      "If you intended to run this layer in float32, you can safely ignore this warning. If in doubt, this warning is likely only an issue if you are porting a TensorFlow 1.X model to TensorFlow 2.\n",
      "\n",
      "To change all layers to have dtype float64 by default, call `tf.keras.backend.set_floatx('float64')`. To change just this layer, pass dtype='float64' to the layer constructor. If you are the author of this layer, you can disable autocasting by passing autocast=False to the base Layer constructor.\n",
      "\n"
     ]
    }
   ],
   "source": [
    "output = avgpool2D(sample/255.0) # the data type should not be uint8"
   ]
  },
  {
   "cell_type": "code",
   "execution_count": null,
   "id": "901afd14",
   "metadata": {
    "id": "901afd14",
    "outputId": "389bb2fe-0517-4e30-ebc8-1c5ce95c817f"
   },
   "outputs": [
    {
     "data": {
      "text/plain": [
       "TensorShape([2, 16, 16, 3])"
      ]
     },
     "execution_count": 17,
     "metadata": {},
     "output_type": "execute_result"
    }
   ],
   "source": [
    "output.shape"
   ]
  },
  {
   "cell_type": "code",
   "execution_count": null,
   "id": "3f13ef92",
   "metadata": {
    "id": "3f13ef92",
    "outputId": "b0122701-5db4-461d-b75b-817759ae3ec0"
   },
   "outputs": [
    {
     "data": {
      "text/plain": [
       "(-0.5, 15.5, 15.5, -0.5)"
      ]
     },
     "execution_count": 18,
     "metadata": {},
     "output_type": "execute_result"
    },
    {
     "data": {
      "image/png": "[encoded data removed]",
      "text/plain": [
       "<Figure size 504x504 with 2 Axes>"
      ]
     },
     "metadata": {
      "needs_background": "light"
     },
     "output_type": "display_data"
    }
   ],
   "source": [
    "fig, (ax1, ax2) = plt.subplots(1,2,figsize=(7,7))\n",
    "ax1.imshow(sample[0,:,:,:])\n",
    "ax1.axis(\"off\")\n",
    "ax2.imshow(output[0,:,:,:])\n",
    "ax2.axis(\"off\")"
   ]
  },
  {
   "cell_type": "markdown",
   "id": "dbe7b207",
   "metadata": {
    "id": "dbe7b207"
   },
   "source": [
    "The default parameter choices of `tf.keras.layers.AveragePooling2D()` is the same as `tf.keras.layers.MaxPool2D()` and we can tune it in the same way. Furthermore, MaxPooling tends to work better in practice, as its ability to preserve the strongest features and omit the weak ones can filter the noise and provide a cleaner signal to successive layers. "
   ]
  },
  {
   "cell_type": "markdown",
   "id": "4686aefa",
   "metadata": {},
   "source": [
    "Documentation for AveragePooling2D: [documentation](https://www.tensorflow.org/api_docs/python/tf/keras/layers/AveragePooling2D)."
   ]
  },
  {
   "cell_type": "markdown",
   "id": "5f56331c",
   "metadata": {
    "id": "5f56331c"
   },
   "source": [
    "### The need of Downsampling and Pooling Layers\n",
    "\n",
    "\n",
    "Why do we need down-sampling or more specifically pooling layers?\n",
    "\n",
    "1. **To distill the high amount of information to reduce computational cost:** An image can be consisting of millions of pixels, which means we need to calculate millions of linear/non-linear operations in neurons. By using pooling layers, we can downsample the input and reduce the computational costs.\n",
    "\n",
    "\n",
    "2. **Increasing receptive field of successive CNN filters:** As you can see in our example above, after the pooling layer the input halved into 16x16, by keeping the same kernel size in our successive CNN layers we will let the layers filter information from increasingly larger receptive fields.\n",
    "\n",
    "\n",
    "3. **Invariance and Non-linearity in Pooling Layers:** While performing the max-pooling operation to a patch, it does not matter where exactly the highest value is, because the only thing that the aggregation function will care about is where the highest value is in that patch. Therefore, pooling layers also introduce invariance to small translations. "
   ]
  },
  {
   "cell_type": "markdown",
   "id": "97075758",
   "metadata": {
    "id": "97075758"
   },
   "source": [
    "<img src=\"imgs/image7.png\" width=\"60%\">"
   ]
  },
  {
   "cell_type": "markdown",
   "id": "43fa15f1",
   "metadata": {
    "id": "43fa15f1"
   },
   "source": [
    "<a href=\"https://www.deeplearningbook.org/contents/convnets.html\"> Source </a>\n",
    "\n",
    "Average pooling also adds a similar invariance (generally less than max-pooling). Adding more invariance can be beneficial in case of some classification problem, for instance when we are trying to classify by only caring whether a feature is present rather than exactly where it is (for instance, let's say we are doing a flower classification to recognize different types of flower). In such a case, pooling layers can help to blur the location information to some extent. However, making the model completely location-agnostic would require more data (data augmentation can be beneficial to force the model to learn location invariance). On the other hand, this invariance may not be always beneficial. For instance, when we are dealing with semantic segmentation, the relative location of instances would be an important feature to consider since we need to classify the pixels according to the position of the target object (if the target object is translated to right or left then the predicted object should be translated). In this case, we need equivariance. You can find more about equivariance in the further reading section. On the other hand, one other advantage of the max-pooling operation is that it also introduces some non-linearity whereas average pooling does not have that effect.\n",
    "\n",
    "Lastly, there is yet one pooling layer type to learn, namely global average pooling, which works similarly to average pooling but instead of taking averages on patches, it takes averages of each feature map. Then we can use the softmax layer or fully connected layers without flattening the feature maps. We will soon learn about this layer type as well."
   ]
  },
  {
   "cell_type": "markdown",
   "id": "809c197d",
   "metadata": {
    "id": "809c197d"
   },
   "source": [
    "For learning more about invariance and equivariance, I recommend the following sources:\n",
    "1. [Deep Learning Equivariance and Invariance](https://www.doc.ic.ac.uk/~bkainz/teaching/DL/notes/equivariance.pdf)\n",
    "2. [Pooling in Convolutional Networks](https://cedar.buffalo.edu/~srihari/CSE676/9.3%20Pooling.pdf)\n",
    "3. [What is the benefit of using average pooling rather than max pooling?](https://www.quora.com/What-is-the-benefit-of-using-average-pooling-rather-than-max-pooling)\n",
    "4. [Why is max pooling necessary in convolutional neural networks?](https://stats.stackexchange.com/questions/288261/why-is-max-pooling-necessary-in-convolutional-neural-networks)\n",
    "5. [How exactly does max pooling create translation invariance?](https://www.quora.com/How-exactly-does-max-pooling-create-translation-invariance)\n",
    "6. [Max Pooling in Convolutional Neural Network and Its Features](https://analyticsindiamag.com/max-pooling-in-convolutional-neural-network-and-its-features/)\n",
    "7. [Comprehensive Guide to Different Pooling Layers in Deep Learning](https://analyticsindiamag.com/comprehensive-guide-to-different-pooling-layers-in-deep-learning/)\n",
    "8. [Introduction To Pooling Layers In CNN](https://pub.towardsai.net/introduction-to-pooling-layers-in-cnn-dafe61eabe34)"
   ]
  },
  {
   "cell_type": "markdown",
   "id": "17b8f7b5",
   "metadata": {
    "id": "17b8f7b5"
   },
   "source": [
    "## Dense Layers"
   ]
  },
  {
   "cell_type": "markdown",
   "id": "08d3897c",
   "metadata": {
    "id": "08d3897c"
   },
   "source": [
    "In the first notebook, we learnt about the convolutional layers that filter the input and create feature maps. Then we talked about pooling layers that downsample the input to reduce computational cost in addition to its other advantages. In a typical convolutional neural network architecture, convolutional layers are followed by pooling layers and these layers are stacked together one after another several times to extract features effectively. The question is then, how can we use these extracted features in classification? Therein lies the need of using our old friends, Dense layers (at least for traditional ConvNets, later we will also see Fully Convolutional Neural Networks that do not include Dense Layers). \n",
    "\n",
    "\n",
    "<img src=\"imgs/web1.webp\" width=\"70%\">\n",
    "\n",
    "<a href=\"https://www.dominodatalab.com/blog/gpu-accelerated-convolutional-neural-networks-with-pytorch\"> Source </a>\n",
    "\n",
    "In this sense, we can say that the convolutional neural network has two main parts: the first part is the feature extractor consisting of convolutional layers and pooling layers, and the second part is the decision-making part which handles the classification. Now let's explore the components of this classification part starting with flatten layer.\n",
    "\n",
    "<img src=\"imgs/image8.png\" width=\"40%\">\n",
    "\n",
    "We previously used `tf.keras.layers.Flatten()` in my Deep Learning Fundamental notebooks and you can see the illustration above. As you may recall, it reshapes a tensor to have the same shape as the number of elements in the tensor, in other words, it converts a grid-shape structure (such as images or pooled feature maps in our case) into a 1-D vector since dense layers expect it that way. \n",
    "\n",
    "<img src=\"imgs/image9.png\" width=\"30%\">\n",
    "\n",
    "<a href=\"\"> Source </a>\n",
    "\n",
    "After the flattening, we pass the 1-D vector to the dense layers as represented in the above illustration. In the last layer, we again use the dense layers to give the final result. For a binary classification problem, we generally use one neuron with a sigmoid activation function which will output either 0 or 1 (assigning values lower than 0.5 to the negative class and the higher to the positive class). For multi-class classification problems, we need to use as many neurons as the number of classes where each neuron uses the softmax activation function to output probabilities. Then we can use the argmax operator to assign an instance to a class where the output is maximum given the instance. This case is illustrated in the first schematic of this section. We have three classes Car, Computer, and Dog, after we feed the instance to the neural network the first output neuron gives the highest value (0.82) then we can assign the instance to the Computer class using the argmax operator."
   ]
  },
  {
   "cell_type": "markdown",
   "id": "a7bd5877",
   "metadata": {
    "id": "a7bd5877"
   },
   "source": [
    "### Differences between MLPs and CNNs\n",
    "\n",
    "**1. Computational costs:** The Convolutional Neural Networks extensively reduce the number of parameters that need to be tuned during training. Convolutional neural networks operate on small filters that share different weights (multiple filters) so that the output size is influenced by the size of the filter. Moreover, we also use pooling layers to further reduce the computation costs. However, dense layers operate on linear operations (the output of these linear operations generally is then fed to a non-linearity) to form a relationship between every input and every output in their layers. In other words, the number of parameters in dense layers is influenced by the input size (dimensionality of the data), whereas that is not the case for convolutional networks. Therefore, we can efficiently train convolutional neural networks without impacting the number of parameters that need to be tuned.\n",
    "\n",
    "<img src=\"imgs/gif5.gif\" width=\"40%\">\n",
    "\n",
    "<a href=\"\"> Source </a>\n",
    "\n",
    "Let's look at the illustration above. After flattening the 28x28 image, the 1-D input vector is fed to the neural network. The network then propagates the outputs to the successive layers and does the final classification in the output layer. Let's do a quick parameter calculation for this neural network with a hidden network size of 2. The first network after the input layer has 16 neurons, then the parameters of the first hidden layer would be 784x16+16 (input_shape*neurons+bias) = 12560. The second hidden layer will have 272 parameters and the last layer has 170. In total, we would have 13.002 parameters to tune. In real life, images have much higher resolution and we would need much deeper networks, this would blow up the number of parameters. Instead of using very deep dense layers, we can use the convolutional layers and pooling layers then add the dense layers for calculating the final classification results so that we can save a lot of computational resources.\n",
    "\n",
    "For learning more about parameter calculations: \n",
    "1. [Understanding and Calculating the number of Parameters in Convolution Neural Networks (CNNs)](https://towardsdatascience.com/understanding-and-calculating-the-number-of-parameters-in-convolution-neural-networks-cnns-fc88790d530d)\n",
    "2.[How to Calculate the Number of Parameters in Keras Models](https://towardsdatascience.com/how-to-calculate-the-number-of-parameters-in-keras-models-710683dae0ca)\n",
    "\n",
    "**2. Local Information vs Global Information:**  Images are grid-type structures in which relative positions of pixels are quite important. As we previously discussed, Convolutional Neural Networks extract local features from the image. The extracted low-level features (edges, textures, and color gradients) can be used to localize more advanced features such as the presence of whiskers or the eye of a cat. Moreover, the filters respond to features whatever their location in the image. The filters in CNN layers, therefore, are able to exploit spatial information effectively. Fully Connected Layers, on the other hand, learn global information (patterns involving all the pixels). These global patterns do not lead to the strong inductive bias of CNNs which gives them several very important features such as being transition-invariant as well as learning spatial hierarchies. The main reason for the lack of spatial reasoning in Dense Layers is that when we flatten the vector we lose the spatial information since we combine all the pixel values without taking into account their original positions.\n",
    "\n",
    "\n",
    "<img src=\"imgs/gif6.gif\" width=\"60%\">\n",
    "\n",
    "<a href=\"\"> Source </a>\n",
    "\n",
    "See the illustration above, we can exploit the local patterns using convolutional layers and then use the extracted feature maps would provide us more information about the spatial information of the images even after we flatten the feature maps and feed them to fully connected layers, hence we could achieve better classification performance than directly feeding the images to a network of Fully Connected Layers. Besides, we would save many more computational resources.\n",
    "\n",
    "Finally, let's look at the illustration below to see the steps we have gone through up to now and then we will train our first CNN on MNIST."
   ]
  },
  {
   "cell_type": "markdown",
   "id": "26ef46d6",
   "metadata": {
    "id": "26ef46d6"
   },
   "source": [
    "\n",
    "\n",
    "<img src=\"imgs/gif7.gif\" width=\"70%\">\n",
    "\n",
    "<a href=\"\"> Source </a>"
   ]
  },
  {
   "cell_type": "markdown",
   "id": "047fed0c",
   "metadata": {},
   "source": [
    "Now let's train our first CNN on MNIST Fashion."
   ]
  },
  {
   "cell_type": "code",
   "execution_count": 1,
   "id": "7436f25b",
   "metadata": {
    "id": "7436f25b"
   },
   "outputs": [],
   "source": [
    "import tensorflow as tf\n",
    "import tensorflow.keras as keras\n",
    "import matplotlib.pyplot as plt\n",
    "(X_train, y_train), (X_valid, y_valid) = keras.datasets.fashion_mnist.load_data()"
   ]
  },
  {
   "cell_type": "code",
   "execution_count": 2,
   "id": "e7bd564a",
   "metadata": {
    "colab": {
     "base_uri": "https://localhost:8080/"
    },
    "id": "e7bd564a",
    "outputId": "b9277de3-0099-4540-cf52-05be65c6a3d3"
   },
   "outputs": [
    {
     "data": {
      "text/plain": [
       "(60000, 28, 28)"
      ]
     },
     "execution_count": 2,
     "metadata": {},
     "output_type": "execute_result"
    }
   ],
   "source": [
    "X_train.shape"
   ]
  },
  {
   "cell_type": "code",
   "execution_count": 3,
   "id": "322081e6",
   "metadata": {
    "id": "322081e6"
   },
   "outputs": [],
   "source": [
    "model = keras.models.Sequential([\n",
    "    keras.layers.Input(shape=(28,28,1)),\n",
    "    keras.layers.BatchNormalization(),\n",
    "    keras.layers.Conv2D(filters=64, kernel_size=7,activation='relu', padding=\"SAME\"),\n",
    "    keras.layers.MaxPooling2D(pool_size=2),\n",
    "    keras.layers.BatchNormalization(),\n",
    "    keras.layers.Conv2D(filters=128, kernel_size=7,activation='relu', padding=\"SAME\"),\n",
    "    keras.layers.Conv2D(filters=128, kernel_size=7,activation='relu', padding=\"SAME\"),\n",
    "    keras.layers.MaxPooling2D(pool_size=2),\n",
    "    keras.layers.BatchNormalization(),\n",
    "    keras.layers.Conv2D(filters=256, kernel_size=7,activation='relu', padding=\"SAME\"),\n",
    "    keras.layers.Conv2D(filters=256, kernel_size=7,activation='relu', padding=\"SAME\"),\n",
    "    keras.layers.MaxPooling2D(pool_size=2),\n",
    "    keras.layers.BatchNormalization(),\n",
    "    keras.layers.Flatten(),\n",
    "    keras.layers.Dense(units=128, activation='relu'),\n",
    "    keras.layers.Dropout(0.5),\n",
    "    keras.layers.Dense(units=64, activation='relu'),\n",
    "    keras.layers.Dropout(0.5),\n",
    "    keras.layers.Dense(units=10, activation='softmax'),\n",
    "])"
   ]
  },
  {
   "cell_type": "code",
   "execution_count": 4,
   "id": "2a003f27",
   "metadata": {
    "colab": {
     "base_uri": "https://localhost:8080/"
    },
    "id": "2a003f27",
    "outputId": "dc727c45-7bb0-4981-d247-3cebf29716e1"
   },
   "outputs": [
    {
     "name": "stdout",
     "output_type": "stream",
     "text": [
      "Model: \"sequential\"\n",
      "_________________________________________________________________\n",
      " Layer (type)                Output Shape              Param #   \n",
      "=================================================================\n",
      " batch_normalization (BatchN  (None, 28, 28, 1)        4         \n",
      " ormalization)                                                   \n",
      "                                                                 \n",
      " conv2d (Conv2D)             (None, 28, 28, 64)        3200      \n",
      "                                                                 \n",
      " max_pooling2d (MaxPooling2D  (None, 14, 14, 64)       0         \n",
      " )                                                               \n",
      "                                                                 \n",
      " batch_normalization_1 (Batc  (None, 14, 14, 64)       256       \n",
      " hNormalization)                                                 \n",
      "                                                                 \n",
      " conv2d_1 (Conv2D)           (None, 14, 14, 128)       401536    \n",
      "                                                                 \n",
      " conv2d_2 (Conv2D)           (None, 14, 14, 128)       802944    \n",
      "                                                                 \n",
      " max_pooling2d_1 (MaxPooling  (None, 7, 7, 128)        0         \n",
      " 2D)                                                             \n",
      "                                                                 \n",
      " batch_normalization_2 (Batc  (None, 7, 7, 128)        512       \n",
      " hNormalization)                                                 \n",
      "                                                                 \n",
      " conv2d_3 (Conv2D)           (None, 7, 7, 256)         1605888   \n",
      "                                                                 \n",
      " conv2d_4 (Conv2D)           (None, 7, 7, 256)         3211520   \n",
      "                                                                 \n",
      " max_pooling2d_2 (MaxPooling  (None, 3, 3, 256)        0         \n",
      " 2D)                                                             \n",
      "                                                                 \n",
      " batch_normalization_3 (Batc  (None, 3, 3, 256)        1024      \n",
      " hNormalization)                                                 \n",
      "                                                                 \n",
      " flatten (Flatten)           (None, 2304)              0         \n",
      "                                                                 \n",
      " dense (Dense)               (None, 128)               295040    \n",
      "                                                                 \n",
      " dropout (Dropout)           (None, 128)               0         \n",
      "                                                                 \n",
      " dense_1 (Dense)             (None, 64)                8256      \n",
      "                                                                 \n",
      " dropout_1 (Dropout)         (None, 64)                0         \n",
      "                                                                 \n",
      " dense_2 (Dense)             (None, 10)                650       \n",
      "                                                                 \n",
      "=================================================================\n",
      "Total params: 6,330,830\n",
      "Trainable params: 6,329,932\n",
      "Non-trainable params: 898\n",
      "_________________________________________________________________\n"
     ]
    }
   ],
   "source": [
    "model.compile(loss=\"sparse_categorical_crossentropy\", optimizer=\"nadam\", metrics=[\"accuracy\"])\n",
    "model.summary()"
   ]
  },
  {
   "cell_type": "code",
   "execution_count": 5,
   "id": "fe9aa9d6",
   "metadata": {
    "colab": {
     "base_uri": "https://localhost:8080/"
    },
    "id": "fe9aa9d6",
    "outputId": "93f6c274-01ca-4410-b5d9-298524055729"
   },
   "outputs": [
    {
     "name": "stdout",
     "output_type": "stream",
     "text": [
      "Epoch 1/10\n",
      "1875/1875 [==============================] - 60s 24ms/step - loss: 0.9274 - accuracy: 0.6666 - val_loss: 0.5812 - val_accuracy: 0.7498\n",
      "Epoch 2/10\n",
      "1875/1875 [==============================] - 44s 24ms/step - loss: 0.5767 - accuracy: 0.7712 - val_loss: 0.4760 - val_accuracy: 0.8153\n",
      "Epoch 3/10\n",
      "1875/1875 [==============================] - 43s 23ms/step - loss: 0.4903 - accuracy: 0.8168 - val_loss: 0.4276 - val_accuracy: 0.8385\n",
      "Epoch 4/10\n",
      "1875/1875 [==============================] - 44s 23ms/step - loss: 0.4303 - accuracy: 0.8399 - val_loss: 0.3861 - val_accuracy: 0.8672\n",
      "Epoch 5/10\n",
      "1875/1875 [==============================] - 44s 24ms/step - loss: 0.3753 - accuracy: 0.8714 - val_loss: 0.3729 - val_accuracy: 0.8687\n",
      "Epoch 6/10\n",
      "1875/1875 [==============================] - 44s 23ms/step - loss: 0.3292 - accuracy: 0.8881 - val_loss: 0.3526 - val_accuracy: 0.8770\n",
      "Epoch 7/10\n",
      "1875/1875 [==============================] - 44s 23ms/step - loss: 0.2909 - accuracy: 0.9006 - val_loss: 0.3375 - val_accuracy: 0.8747\n",
      "Epoch 8/10\n",
      "1875/1875 [==============================] - 44s 24ms/step - loss: 0.2691 - accuracy: 0.9094 - val_loss: 0.2913 - val_accuracy: 0.9019\n",
      "Epoch 9/10\n",
      "1875/1875 [==============================] - 44s 24ms/step - loss: 0.2441 - accuracy: 0.9175 - val_loss: 0.2616 - val_accuracy: 0.9093\n",
      "Epoch 10/10\n",
      "1875/1875 [==============================] - 44s 23ms/step - loss: 0.2153 - accuracy: 0.9254 - val_loss: 0.2651 - val_accuracy: 0.9146\n"
     ]
    }
   ],
   "source": [
    "history = model.fit(X_train, y_train, epochs=10, validation_data=(X_valid, y_valid))"
   ]
  },
  {
   "cell_type": "markdown",
   "id": "a45c3035",
   "metadata": {
    "id": "a45c3035"
   },
   "source": [
    "General Reading Recommendations on CNNs:\n",
    "\n",
    "1. [Intuitively Understanding Convolutions for Deep Learning](https://towardsdatascience.com/intuitively-understanding-convolutions-for-deep-learning-1f6f42faee1)\n",
    "2. [Gentle Dive into Math Behind Convolutional Neural Networks](https://towardsdatascience.com/gentle-dive-into-math-behind-convolutional-neural-networks-79a07dd44cf9)\n",
    "3. [Convolution arithmetic tutorial](https://theano-pymc.readthedocs.io/en/latest/tutorial/conv_arithmetic.html)\n",
    "5. [Student Notes: Convolutional Neural Networks (CNN) Introduction](https://indoml.com/2018/03/07/student-notes-convolutional-neural-networks-cnn-introduction/)\n",
    "5. [A simple explanation to filters, stride and padding in CNN](https://shubhamchauhan125.medium.com/a-simple-explanation-to-filters-stride-and-padding-in-cnn-d0236d4a57ef)\n",
    "5. [What is the meaning of flattening step in a convolutional neural network?](https://www.quora.com/What-is-the-meaning-of-flattening-step-in-a-convolutional-neural-network)\n",
    "6. [Computer Vision: Convolution Basics](https://towardsdatascience.com/computer-vision-convolution-basics-2d0ae3b79346)\n",
    "\n",
    "I also recommend watching the videos below:\n",
    "\n",
    "1. [Ch 9: Convolutional Networks](https://www.youtube.com/watch?v=Xogn6veSyxA)\n",
    "2. [How convolutional neural networks work, in depth](https://www.youtube.com/watch?v=JB8T_zN7ZC0&t=251s)\n",
    "\n",
    "\n",
    "For learning more about batch normalization, I recommend checking out the links below: \n",
    "\n",
    "1. [Batch Norm Explained Visually — How it works, and why neural networks need it](https://towardsdatascience.com/batch-norm-explained-visually-how-it-works-and-why-neural-networks-need-it-b18919692739)\n",
    "2. [Why does batch norm uses exponentially weighted average (EWA) instead of simple average at test time?](https://stats.stackexchange.com/questions/539798/why-does-batch-norm-uses-exponentially-weighted-average-ewa-instead-of-simple)\n",
    "3. [Why does batch normalization use mini-batch statistics instead of the moving averages during training?](https://stats.stackexchange.com/questions/283641/why-does-batch-normalization-use-mini-batch-statistics-instead-of-the-moving-ave)\n",
    "4. [Why perform batch norm before ReLu and not after?](https://forums.fast.ai/t/why-perform-batch-norm-before-relu-and-not-after/81293/4)\n",
    "5. [Intro to Optimization in Deep Learning: Busting the Myth About Batch Normalization](https://blog.paperspace.com/busting-the-myths-about-batch-normalization/)\n",
    "6. [Batch normalization in 3 levels of understanding](https://towardsdatascience.com/batch-normalization-in-3-levels-of-understanding-14c2da90a338)\n",
    "7. [Moving average in Batch Normalization](https://jiafulow.github.io/blog/2021/01/29/moving-average-in-batch-normalization/)\n",
    "8. [Why does batch normalization enable higher learning rate?](https://www.quora.com/Why-does-batch-normalization-enable-higher-learning-rate)\n",
    "9. [Does Batch Normalized network still need scaled inputs?](https://stats.stackexchange.com/questions/485940/does-batch-normalized-network-still-need-scaled-inputs)\n",
    "10. [is scaling data [0,1] necessary when batch normalization is used?](https://stats.stackexchange.com/questions/249378/is-scaling-data-0-1-necessary-when-batch-normalization-is-used)\n",
    "11. [Understanding the Math behind Batch-Normalization algorithm](https://medium.com/analytics-vidhya/understanding-the-math-behind-batch-normalization-algorithm-part-1-ad5948631ab7)\n",
    "12. [Moving Mean and Moving Variance In Batch Normalization](https://kaixih.github.io/batch-norm/)\n",
    "13. [Does BatchNormalization use moving average across batches or only per batch? and how to use moving average across batches?](https://stackoverflow.com/questions/60460338/does-batchnormalization-use-moving-average-across-batches-or-only-per-batch-and)"
   ]
  },
  {
   "cell_type": "markdown",
   "id": "1c7b2b9c",
   "metadata": {
    "id": "4c0d71cd"
   },
   "source": [
    "## General References\n",
    "\n",
    "The references below are the main sources I used for preparing the notebooks in this repository. \n",
    "\n",
    "1. Murphy, K. P. (2022). Probabilistic machine learning: an introduction. MIT press.\n",
    "2. Géron, A. (2022). Hands-on machine learning with Scikit-Learn, Keras, and TensorFlow. \" O'Reilly Media, Inc.\".\n",
    "3. Chollet, F. (2021). Deep learning with Python. Simon and Schuster.\n",
    "4. Kar, K. (2020). Mastering Computer Vision with TensorFlow 2. x: Build advanced computer vision applications using machine learning and deep learning techniques. Packt Publishing Ltd.\n",
    "5. Planche, B., & Andres, E. (2019). Hands-On Computer Vision with TensorFlow 2: Leverage deep learning to create powerful image processing apps with TensorFlow 2.0 and Keras. Packt Publishing Ltd.\n",
    "6. Lakshmanan, V., Görner, M., & Gillard, R. (2021). Practical Machine Learning for Computer Vision. \" O'Reilly Media, Inc.\"."
   ]
  }
 ],
 "metadata": {
  "accelerator": "GPU",
  "colab": {
   "provenance": []
  },
  "gpuClass": "standard",
  "kernelspec": {
   "display_name": "Python 3 (ipykernel)",
   "language": "python",
   "name": "python3"
  },
  "language_info": {
   "codemirror_mode": {
    "name": "ipython",
    "version": 3
   },
   "file_extension": ".py",
   "mimetype": "text/x-python",
   "name": "python",
   "nbconvert_exporter": "python",
   "pygments_lexer": "ipython3",
   "version": "3.8.8"
  }
 },
 "nbformat": 4,
 "nbformat_minor": 5
}
