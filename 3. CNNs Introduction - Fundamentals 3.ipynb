{
 "cells": [
  {
   "cell_type": "markdown",
   "id": "efbf95b1",
   "metadata": {
    "id": "efbf95b1"
   },
   "source": [
    "# Convolutional Neural Networks 3: Filling the Gaps"
   ]
  },
  {
   "cell_type": "markdown",
   "id": "c79557c8",
   "metadata": {},
   "source": [
    "Welcome to the third notebook in Convolutional Neural Networks. In this notebook, we will explore Global Pooling, and revisit the idea of convolution to fill some gaps. Let's get started."
   ]
  },
  {
   "cell_type": "markdown",
   "id": "7a1fe3d5",
   "metadata": {
    "id": "7a1fe3d5"
   },
   "source": [
    "## Revisiting Pooling: Global Pooling\n",
    "\n",
    "\n",
    "We previously talked about pooling and flattening layers, now we will see a layer type that combines both of these ideas to get rid of flattening layers and fully connected layers in most cases. I will explain how Global Average Pooling works and Global Max Pooling works in a quite similar way except that it takes the max value, so let's get started.\n",
    "\n",
    "\n",
    "Previously we learnt that the flattening layer takes a feature map and converts it to a 1-D vector so that we can feed the feature map to dense layers. Global Average Pooling does the same thing, however, it uses a different strategy. It takes the  feature map, calculates the average over entire feature, and outputs the result (the kernel size is height x width). We apply this operation to each feature map and then stack these values into a column vector (1-D vector). Let's see an illustration of it and add this layer to our previous architecture instead of the flattening layer.\n",
    "\n",
    "\n",
    "<img src=\"imgs/image1.png\" width=\"70%\">\n",
    "<a href=\"\"> Source </a>"
   ]
  },
  {
   "cell_type": "markdown",
   "id": "30db7b29",
   "metadata": {},
   "source": [
    "Let's use `GlobalAveragePooling2D()` instead of `Flatten()` layer to see if we can improve the results on MNIST."
   ]
  },
  {
   "cell_type": "code",
   "execution_count": 1,
   "id": "87667e4e",
   "metadata": {
    "colab": {
     "base_uri": "https://localhost:8080/"
    },
    "id": "87667e4e",
    "outputId": "3feea496-1b62-44af-97ad-f62144b08b73"
   },
   "outputs": [
    {
     "name": "stdout",
     "output_type": "stream",
     "text": [
      "Downloading data from https://storage.googleapis.com/tensorflow/tf-keras-datasets/train-labels-idx1-ubyte.gz\n",
      "29515/29515 [==============================] - 0s 0us/step\n",
      "Downloading data from https://storage.googleapis.com/tensorflow/tf-keras-datasets/train-images-idx3-ubyte.gz\n",
      "26421880/26421880 [==============================] - 1s 0us/step\n",
      "Downloading data from https://storage.googleapis.com/tensorflow/tf-keras-datasets/t10k-labels-idx1-ubyte.gz\n",
      "5148/5148 [==============================] - 0s 0us/step\n",
      "Downloading data from https://storage.googleapis.com/tensorflow/tf-keras-datasets/t10k-images-idx3-ubyte.gz\n",
      "4422102/4422102 [==============================] - 0s 0us/step\n"
     ]
    }
   ],
   "source": [
    "import tensorflow as tf\n",
    "import tensorflow.keras as keras\n",
    "import matplotlib.pyplot as plt\n",
    "(X_train, y_train), (X_valid, y_valid) = keras.datasets.fashion_mnist.load_data()"
   ]
  },
  {
   "cell_type": "code",
   "execution_count": 2,
   "id": "6dd018d1",
   "metadata": {
    "id": "6dd018d1"
   },
   "outputs": [],
   "source": [
    "model = keras.models.Sequential([\n",
    "    keras.layers.Input(shape=(28,28,1)),\n",
    "    keras.layers.BatchNormalization(),\n",
    "    keras.layers.Conv2D(filters=64, kernel_size=7,activation='relu', padding=\"SAME\"),\n",
    "    keras.layers.MaxPooling2D(pool_size=2),\n",
    "    keras.layers.BatchNormalization(),\n",
    "    keras.layers.Conv2D(filters=128, kernel_size=7,activation='relu', padding=\"SAME\"),\n",
    "    keras.layers.Conv2D(filters=128, kernel_size=7,activation='relu', padding=\"SAME\"),\n",
    "    keras.layers.MaxPooling2D(pool_size=2),\n",
    "    keras.layers.BatchNormalization(),\n",
    "    keras.layers.Conv2D(filters=256, kernel_size=7,activation='relu', padding=\"SAME\"),\n",
    "    keras.layers.Conv2D(filters=256, kernel_size=7,activation='relu', padding=\"SAME\"),\n",
    "    keras.layers.MaxPooling2D(pool_size=2),\n",
    "    keras.layers.BatchNormalization(),\n",
    "    keras.layers.GlobalAveragePooling2D(),\n",
    "    keras.layers.Dense(units=128, activation='relu'),\n",
    "    keras.layers.Dropout(0.5),\n",
    "    keras.layers.Dense(units=64, activation='relu'),\n",
    "    keras.layers.Dropout(0.5),\n",
    "    keras.layers.Dense(units=10, activation='softmax'),\n",
    "])"
   ]
  },
  {
   "cell_type": "code",
   "execution_count": 3,
   "id": "7ed4151a",
   "metadata": {
    "colab": {
     "base_uri": "https://localhost:8080/"
    },
    "id": "7ed4151a",
    "outputId": "30a1b3e7-2330-4d28-e638-79b8d54a9bed"
   },
   "outputs": [
    {
     "name": "stdout",
     "output_type": "stream",
     "text": [
      "Model: \"sequential\"\n",
      "_________________________________________________________________\n",
      " Layer (type)                Output Shape              Param #   \n",
      "=================================================================\n",
      " batch_normalization (BatchN  (None, 28, 28, 1)        4         \n",
      " ormalization)                                                   \n",
      "                                                                 \n",
      " conv2d (Conv2D)             (None, 28, 28, 64)        3200      \n",
      "                                                                 \n",
      " max_pooling2d (MaxPooling2D  (None, 14, 14, 64)       0         \n",
      " )                                                               \n",
      "                                                                 \n",
      " batch_normalization_1 (Batc  (None, 14, 14, 64)       256       \n",
      " hNormalization)                                                 \n",
      "                                                                 \n",
      " conv2d_1 (Conv2D)           (None, 14, 14, 128)       401536    \n",
      "                                                                 \n",
      " conv2d_2 (Conv2D)           (None, 14, 14, 128)       802944    \n",
      "                                                                 \n",
      " max_pooling2d_1 (MaxPooling  (None, 7, 7, 128)        0         \n",
      " 2D)                                                             \n",
      "                                                                 \n",
      " batch_normalization_2 (Batc  (None, 7, 7, 128)        512       \n",
      " hNormalization)                                                 \n",
      "                                                                 \n",
      " conv2d_3 (Conv2D)           (None, 7, 7, 256)         1605888   \n",
      "                                                                 \n",
      " conv2d_4 (Conv2D)           (None, 7, 7, 256)         3211520   \n",
      "                                                                 \n",
      " max_pooling2d_2 (MaxPooling  (None, 3, 3, 256)        0         \n",
      " 2D)                                                             \n",
      "                                                                 \n",
      " batch_normalization_3 (Batc  (None, 3, 3, 256)        1024      \n",
      " hNormalization)                                                 \n",
      "                                                                 \n",
      " global_average_pooling2d (G  (None, 256)              0         \n",
      " lobalAveragePooling2D)                                          \n",
      "                                                                 \n",
      " dense (Dense)               (None, 128)               32896     \n",
      "                                                                 \n",
      " dropout (Dropout)           (None, 128)               0         \n",
      "                                                                 \n",
      " dense_1 (Dense)             (None, 64)                8256      \n",
      "                                                                 \n",
      " dropout_1 (Dropout)         (None, 64)                0         \n",
      "                                                                 \n",
      " dense_2 (Dense)             (None, 10)                650       \n",
      "                                                                 \n",
      "=================================================================\n",
      "Total params: 6,068,686\n",
      "Trainable params: 6,067,788\n",
      "Non-trainable params: 898\n",
      "_________________________________________________________________\n"
     ]
    }
   ],
   "source": [
    "model.compile(loss=\"sparse_categorical_crossentropy\", optimizer=\"nadam\", metrics=[\"accuracy\"])\n",
    "model.summary()"
   ]
  },
  {
   "cell_type": "code",
   "execution_count": 4,
   "id": "ea959c70",
   "metadata": {
    "colab": {
     "base_uri": "https://localhost:8080/"
    },
    "id": "ea959c70",
    "outputId": "7291c601-aee2-435f-eb6f-98ec1d2dbaa3"
   },
   "outputs": [
    {
     "name": "stdout",
     "output_type": "stream",
     "text": [
      "Epoch 1/10\n",
      "1875/1875 [==============================] - 61s 24ms/step - loss: 0.6240 - accuracy: 0.7896 - val_loss: 0.3701 - val_accuracy: 0.8641\n",
      "Epoch 2/10\n",
      "1875/1875 [==============================] - 45s 24ms/step - loss: 0.3934 - accuracy: 0.8706 - val_loss: 0.3203 - val_accuracy: 0.8870\n",
      "Epoch 3/10\n",
      "1875/1875 [==============================] - 44s 23ms/step - loss: 0.3352 - accuracy: 0.8877 - val_loss: 0.3559 - val_accuracy: 0.8765\n",
      "Epoch 4/10\n",
      "1875/1875 [==============================] - 44s 24ms/step - loss: 0.3029 - accuracy: 0.9003 - val_loss: 0.2896 - val_accuracy: 0.9017\n",
      "Epoch 5/10\n",
      "1875/1875 [==============================] - 45s 24ms/step - loss: 0.2692 - accuracy: 0.9104 - val_loss: 0.2701 - val_accuracy: 0.9060\n",
      "Epoch 6/10\n",
      "1875/1875 [==============================] - 44s 23ms/step - loss: 0.2466 - accuracy: 0.9169 - val_loss: 0.2778 - val_accuracy: 0.9095\n",
      "Epoch 7/10\n",
      "1875/1875 [==============================] - 45s 24ms/step - loss: 0.2228 - accuracy: 0.9250 - val_loss: 0.2596 - val_accuracy: 0.9134\n",
      "Epoch 8/10\n",
      "1875/1875 [==============================] - 44s 24ms/step - loss: 0.2065 - accuracy: 0.9287 - val_loss: 0.2691 - val_accuracy: 0.9199\n",
      "Epoch 9/10\n",
      "1875/1875 [==============================] - 44s 24ms/step - loss: 0.1854 - accuracy: 0.9376 - val_loss: 0.3382 - val_accuracy: 0.8934\n",
      "Epoch 10/10\n",
      "1875/1875 [==============================] - 44s 24ms/step - loss: 0.1687 - accuracy: 0.9435 - val_loss: 0.2707 - val_accuracy: 0.9212\n"
     ]
    }
   ],
   "source": [
    "history = model.fit(X_train, y_train, epochs=10, validation_data=(X_valid, y_valid))"
   ]
  },
  {
   "cell_type": "markdown",
   "id": "f2317232",
   "metadata": {
    "id": "f2317232"
   },
   "source": [
    "As you can see the global average pooling layer helped us to reduce slightly the number of parameters to tune during training while also slightly improving the validation accuracy. On the other hand, this layer type is more often used to completely replace the dense layers except for the last one which we use to get class probabilities. Let's also get rid of other dense layers in our model except the last one and train it again."
   ]
  },
  {
   "cell_type": "code",
   "execution_count": 5,
   "id": "da4f1f68",
   "metadata": {
    "id": "da4f1f68"
   },
   "outputs": [],
   "source": [
    "model = keras.models.Sequential([\n",
    "    keras.layers.Input(shape=(28,28,1)),\n",
    "    keras.layers.BatchNormalization(),\n",
    "    keras.layers.Conv2D(filters=64, kernel_size=7,activation='relu', padding=\"SAME\"),\n",
    "    keras.layers.MaxPooling2D(pool_size=2),\n",
    "    keras.layers.BatchNormalization(),\n",
    "    keras.layers.Conv2D(filters=128, kernel_size=7,activation='relu', padding=\"SAME\"),\n",
    "    keras.layers.Conv2D(filters=128, kernel_size=7,activation='relu', padding=\"SAME\"),\n",
    "    keras.layers.MaxPooling2D(pool_size=2),\n",
    "    keras.layers.BatchNormalization(),\n",
    "    keras.layers.Conv2D(filters=256, kernel_size=7,activation='relu', padding=\"SAME\"),\n",
    "    keras.layers.Conv2D(filters=256, kernel_size=7,activation='relu', padding=\"SAME\"),\n",
    "    keras.layers.MaxPooling2D(pool_size=2),\n",
    "    keras.layers.BatchNormalization(),\n",
    "    keras.layers.GlobalAveragePooling2D(),\n",
    "    keras.layers.Dense(units=10, activation='softmax'),\n",
    "])"
   ]
  },
  {
   "cell_type": "code",
   "execution_count": 6,
   "id": "d59123e1",
   "metadata": {
    "colab": {
     "base_uri": "https://localhost:8080/"
    },
    "id": "d59123e1",
    "outputId": "5bb7658e-760a-49bd-b50d-df7e179201ae"
   },
   "outputs": [
    {
     "name": "stdout",
     "output_type": "stream",
     "text": [
      "Model: \"sequential_1\"\n",
      "_________________________________________________________________\n",
      " Layer (type)                Output Shape              Param #   \n",
      "=================================================================\n",
      " batch_normalization_4 (Batc  (None, 28, 28, 1)        4         \n",
      " hNormalization)                                                 \n",
      "                                                                 \n",
      " conv2d_5 (Conv2D)           (None, 28, 28, 64)        3200      \n",
      "                                                                 \n",
      " max_pooling2d_3 (MaxPooling  (None, 14, 14, 64)       0         \n",
      " 2D)                                                             \n",
      "                                                                 \n",
      " batch_normalization_5 (Batc  (None, 14, 14, 64)       256       \n",
      " hNormalization)                                                 \n",
      "                                                                 \n",
      " conv2d_6 (Conv2D)           (None, 14, 14, 128)       401536    \n",
      "                                                                 \n",
      " conv2d_7 (Conv2D)           (None, 14, 14, 128)       802944    \n",
      "                                                                 \n",
      " max_pooling2d_4 (MaxPooling  (None, 7, 7, 128)        0         \n",
      " 2D)                                                             \n",
      "                                                                 \n",
      " batch_normalization_6 (Batc  (None, 7, 7, 128)        512       \n",
      " hNormalization)                                                 \n",
      "                                                                 \n",
      " conv2d_8 (Conv2D)           (None, 7, 7, 256)         1605888   \n",
      "                                                                 \n",
      " conv2d_9 (Conv2D)           (None, 7, 7, 256)         3211520   \n",
      "                                                                 \n",
      " max_pooling2d_5 (MaxPooling  (None, 3, 3, 256)        0         \n",
      " 2D)                                                             \n",
      "                                                                 \n",
      " batch_normalization_7 (Batc  (None, 3, 3, 256)        1024      \n",
      " hNormalization)                                                 \n",
      "                                                                 \n",
      " global_average_pooling2d_1   (None, 256)              0         \n",
      " (GlobalAveragePooling2D)                                        \n",
      "                                                                 \n",
      " dense_3 (Dense)             (None, 10)                2570      \n",
      "                                                                 \n",
      "=================================================================\n",
      "Total params: 6,029,454\n",
      "Trainable params: 6,028,556\n",
      "Non-trainable params: 898\n",
      "_________________________________________________________________\n"
     ]
    }
   ],
   "source": [
    "model.compile(loss=\"sparse_categorical_crossentropy\", optimizer=\"nadam\", metrics=[\"accuracy\"])\n",
    "model.summary()"
   ]
  },
  {
   "cell_type": "code",
   "execution_count": 7,
   "id": "c485baca",
   "metadata": {
    "colab": {
     "base_uri": "https://localhost:8080/"
    },
    "id": "c485baca",
    "outputId": "eefb413d-87ba-4a9b-f058-3ee3c041662e"
   },
   "outputs": [
    {
     "name": "stdout",
     "output_type": "stream",
     "text": [
      "Epoch 1/10\n",
      "1875/1875 [==============================] - 48s 23ms/step - loss: 0.3999 - accuracy: 0.8533 - val_loss: 0.3698 - val_accuracy: 0.8620\n",
      "Epoch 2/10\n",
      "1875/1875 [==============================] - 43s 23ms/step - loss: 0.2741 - accuracy: 0.8989 - val_loss: 0.2867 - val_accuracy: 0.8911\n",
      "Epoch 3/10\n",
      "1875/1875 [==============================] - 43s 23ms/step - loss: 0.2356 - accuracy: 0.9129 - val_loss: 0.2740 - val_accuracy: 0.9003\n",
      "Epoch 4/10\n",
      "1875/1875 [==============================] - 42s 23ms/step - loss: 0.2014 - accuracy: 0.9258 - val_loss: 0.2646 - val_accuracy: 0.8991\n",
      "Epoch 5/10\n",
      "1875/1875 [==============================] - 42s 23ms/step - loss: 0.1743 - accuracy: 0.9358 - val_loss: 0.2356 - val_accuracy: 0.9178\n",
      "Epoch 6/10\n",
      "1875/1875 [==============================] - 43s 23ms/step - loss: 0.1520 - accuracy: 0.9428 - val_loss: 0.2539 - val_accuracy: 0.9145\n",
      "Epoch 7/10\n",
      "1875/1875 [==============================] - 43s 23ms/step - loss: 0.1231 - accuracy: 0.9539 - val_loss: 0.2274 - val_accuracy: 0.9259\n",
      "Epoch 8/10\n",
      "1875/1875 [==============================] - 42s 23ms/step - loss: 0.0994 - accuracy: 0.9628 - val_loss: 0.2315 - val_accuracy: 0.9287\n",
      "Epoch 9/10\n",
      "1875/1875 [==============================] - 43s 23ms/step - loss: 0.0817 - accuracy: 0.9691 - val_loss: 0.2517 - val_accuracy: 0.9270\n",
      "Epoch 10/10\n",
      "1875/1875 [==============================] - 42s 23ms/step - loss: 0.0663 - accuracy: 0.9755 - val_loss: 0.3034 - val_accuracy: 0.9224\n"
     ]
    }
   ],
   "source": [
    "history = model.fit(X_train, y_train, epochs=10, validation_data=(X_valid, y_valid))"
   ]
  },
  {
   "cell_type": "markdown",
   "id": "dd9d9226",
   "metadata": {
    "id": "dd9d9226"
   },
   "source": [
    "Dense layers are prone to overfitting and we generally employ dropout layers to get rid of this problem as much as possible. In addition to saving computational resources, GlobalPooling layers also make our model robust to overfitting by getting rid of the dense layers. On the other hand, using GlobalPooling is not a default choice and sometimes it is not desired since it also removes a lot of positional information. On the other hand, it may be useful to use it for classification problems in which we want our model to rely on the presence of an object such as \"detection of a horse anywhere in an image\", however, it may not be that useful for object detection applications. Nonetheless, there is no free lunch."
   ]
  },
  {
   "cell_type": "markdown",
   "id": "b0333af1",
   "metadata": {
    "id": "b0333af1"
   },
   "source": [
    "For learning more about global pooling, check out the links below.\n",
    "1. [What does global pooling do?](https://stackoverflow.com/questions/42070528/what-does-global-pooling-do)\n",
    "2. [Global Average Pooling Layers for Object Localization](https://alexisbcook.github.io/2017/global-average-pooling-layers-for-object-localization/)\n",
    "3. [What is global max pooling layer and what is its advantage over maxpooling layer?](https://stats.stackexchange.com/questions/257321/what-is-global-max-pooling-layer-and-what-is-its-advantage-over-maxpooling-layer)\n",
    "\n"
   ]
  },
  {
   "cell_type": "markdown",
   "id": "890066a8",
   "metadata": {
    "id": "890066a8"
   },
   "source": [
    "## Revisiting Convolution: Dimensions and Filter Sizes"
   ]
  },
  {
   "cell_type": "markdown",
   "id": "fa9043ea",
   "metadata": {
    "id": "fa9043ea"
   },
   "source": [
    "In all the examples, we have gone through so far there was a term that might have taken your attention. Conv2D, AveragePooling2D and MaxPooling2D. What does that 2D represent? Well as we talked about previously while applying the convolution operation we slide the kernel over the height and weight axis, however, that is not the only option (even though it is the one that is most commonly used for our application purposes). Let's see how Conv1D and Conv3D are applied, as well as, in which use cases we need them.\n",
    "\n",
    "### Convolution over Width (Conv1D)\n",
    "\n",
    "<img src=\"imgs/gif1.gif\" width=\"50%\">\n",
    "<a href=\"\"> Source </a>\n",
    "\n",
    "As you might already guess, Conv1D only slides the kernel over one axis, which is width. It is generally used for processing time-series data such as audio, or texts (Texts can also be represented as time-series data) as well as signals such as Electroencephalograms. In signal processing, they are heavily used for signal smoothing and they also have applications in generative deep learning (Casual CNNs). Let's see how to use Conv1D on an example."
   ]
  },
  {
   "cell_type": "code",
   "execution_count": null,
   "id": "50689158",
   "metadata": {
    "id": "50689158"
   },
   "outputs": [],
   "source": [
    "#Let's generate some random data.\n",
    "input_shape = (4, 10, 128)\n",
    "x = tf.random.normal(input_shape,seed=42)"
   ]
  },
  {
   "cell_type": "code",
   "execution_count": null,
   "id": "da3ab2df",
   "metadata": {
    "id": "da3ab2df",
    "outputId": "2f124bea-f320-4c9e-d97e-5d8473a922d2"
   },
   "outputs": [
    {
     "data": {
      "text/plain": [
       "TensorShape([4, 10, 128])"
      ]
     },
     "execution_count": 9,
     "metadata": {},
     "output_type": "execute_result"
    }
   ],
   "source": [
    "x.shape "
   ]
  },
  {
   "cell_type": "markdown",
   "id": "b1808143",
   "metadata": {
    "id": "b1808143"
   },
   "source": [
    "The inputs are 128-length vectors with 10 timesteps with a batch size of 4. Let's plot one of them."
   ]
  },
  {
   "cell_type": "code",
   "execution_count": null,
   "id": "2c7c58a9",
   "metadata": {
    "id": "2c7c58a9",
    "outputId": "6cb60107-6801-4344-c98a-ca178a713e2f"
   },
   "outputs": [
    {
     "data": {
      "image/png": "[encoded data removed]",
      "text/plain": [
       "<Figure size 432x288 with 1 Axes>"
      ]
     },
     "metadata": {
      "needs_background": "light"
     },
     "output_type": "display_data"
    }
   ],
   "source": [
    "plt.plot(x[0,1,:]);"
   ]
  },
  {
   "cell_type": "markdown",
   "id": "9861242d",
   "metadata": {
    "id": "9861242d"
   },
   "source": [
    "Now I will use `tf.keras.layers.Conv1D()` on the data we generated above."
   ]
  },
  {
   "cell_type": "code",
   "execution_count": null,
   "id": "4549b525",
   "metadata": {
    "id": "4549b525"
   },
   "outputs": [],
   "source": [
    "y=tf.keras.layers.Conv1D(5, 3, activation=None,padding=\"same\",input_shape=input_shape[1:])(x)"
   ]
  },
  {
   "cell_type": "code",
   "execution_count": null,
   "id": "fb7afe2b",
   "metadata": {
    "id": "fb7afe2b",
    "outputId": "bbebf9c4-2836-4e68-d23f-e569a420c3dd"
   },
   "outputs": [
    {
     "data": {
      "text/plain": [
       "TensorShape([4, 10, 5])"
      ]
     },
     "execution_count": 12,
     "metadata": {},
     "output_type": "execute_result"
    }
   ],
   "source": [
    "y.shape"
   ]
  },
  {
   "cell_type": "markdown",
   "id": "e8ca28fb",
   "metadata": {
    "id": "e8ca28fb"
   },
   "source": [
    "Let's visualize the results for the first instance."
   ]
  },
  {
   "cell_type": "code",
   "execution_count": null,
   "id": "f263162e",
   "metadata": {
    "id": "f263162e",
    "outputId": "bc8c7a60-a20a-4502-df1c-0d484afcd0de"
   },
   "outputs": [
    {
     "data": {
      "image/png": "[encoded data removed]",
      "text/plain": [
       "<Figure size 432x288 with 1 Axes>"
      ]
     },
     "metadata": {
      "needs_background": "light"
     },
     "output_type": "display_data"
    }
   ],
   "source": [
    "plt.plot(y[0,:,:]);"
   ]
  },
  {
   "cell_type": "markdown",
   "id": "5fa40793",
   "metadata": {
    "id": "5fa40793"
   },
   "source": [
    "For learning more about 1D Convolution, I recommend reading this article: [Convolution in one dimension for neural networks](https://e2eml.school/convolution_one_d.html)\n",
    "\n",
    "We will later use Conv1D for Electroencephalogram Signal Classification in one of the upcoming notebooks."
   ]
  },
  {
   "cell_type": "markdown",
   "id": "2512837f",
   "metadata": {
    "id": "2512837f"
   },
   "source": [
    "### Convolution over Volumes (Conv3D)\n",
    "\n",
    "<img src=\"imgs/image2.png\" width=\"50%\">\n",
    "<a href=\"\"> Source </a>"
   ]
  },
  {
   "cell_type": "markdown",
   "id": "b32dd7ab",
   "metadata": {
    "id": "b32dd7ab"
   },
   "source": [
    "Using Conv1D we can slide a kernel over width, similarly using Conv2D we can slide a kernel over height and width. What if we want to slide the kernel over the height, width, and depth axis at the same? There comes the reason to use 3D Convolution operation. 3D Convolutions are generally used for volumetric data such as 3D images or videos. For instance, MRI and CT Scans are examples of 3D images which contain images from different angles that are stacked together.\n",
    "\n",
    "<img src=\"imgs/image3.png\" width=\"60%\">\n",
    "\n",
    "\n",
    "The images above are MR Images from the BraTS Dataset. In this dataset, each MR image is composed of 155 images stacked together (here I only show 40 of them). The whole 155 images can be visualized as the following:\n",
    "\n",
    "<img src=\"imgs/gif2.gif\" width=\"60%\">\n",
    "\n",
    "\n",
    "We can use a 2D convolution on each image and slide the over x and y axis to get feature maps that contain spatial correlations, however, by using a 3D convolution (let's say a kernel with a size of 3x3x3) we can generate feature maps that do not only carry spatial information of x and y axis but also capture the correlations within the images stacked on top of each other so that the generated cubic feature maps establish a relationship between the 3 dimensions. \n",
    "\n",
    "The same situation applies to videos as well, since they are composed of sequentially played frames. To capture the dependencies within multiple frames, we can employ 3a 3-D Convolutional Neural Network so that feature maps will be generated not only taking into account spatial information within each frame but also the temporal information of successive frames.\n",
    "\n",
    "Later we will use a 3-D Convolutional Neural Network on CT Scans in one of the upcoming notebooks.\n",
    "\n",
    "You can find more about 3D and 1D convolutions in the following resources:\n",
    "1. [Deep Learning on Video (Part Three): Diving Deeper into 3D CNNs](https://towardsdatascience.com/deep-learning-on-video-part-three-diving-deeper-into-3d-cnns-cb3c0daa471e)\n",
    "2. [Understanding 1D and 3D Convolution Neural Network | Keras](https://towardsdatascience.com/understanding-1d-and-3d-convolution-neural-network-keras-9d8f76e29610)\n",
    "3. [Deep Learning on Video (Part One): The Early Days…](https://towardsdatascience.com/deep-learning-on-video-part-one-the-early-days-8a3632ed47d4)\n",
    "4. [Intuitive understanding of 1D, 2D, and 3D convolutions in convolutional neural networks](https://stackoverflow.com/questions/42883547/intuitive-understanding-of-1d-2d-and-3d-convolutions-in-convolutional-neural-n)\n",
    "5. [Intuitive understanding of 1D, 2D, and 3D convolutions in convolutional neural networks.\n",
    "](https://wandb.ai/ayush-thakur/dl-question-bank/reports/Intuitive-understanding-of-1D-2D-and-3D-convolutions-in-convolutional-neural-networks---VmlldzoxOTk2MDA)\n",
    "6. [Why do we use 2D convolution for RGB images which are in fact 3D data cubes? Shouldn't we use 3D convolution for RGB and 4D for video?](https://www.quora.com/Why-do-we-use-2D-convolution-for-RGB-images-which-are-in-fact-3D-data-cubes-Shouldnt-we-use-3D-convolution-for-RGB-and-4D-for-video)\n",
    "7. [Is there any use of using 3D convolutions for traditional images (like cifar10, imagenet)?](https://ai.stackexchange.com/questions/13975/is-there-any-use-of-using-3d-convolutions-for-traditional-images-like-cifar10)\n",
    "8. [a-simple-conv3d-example-with-keras](https://github.com/christianversloot/machine-learning-articles/blob/main/a-simple-conv3d-example-with-keras.md)\n",
    "9. [When should I use 3D convolutions?](https://ai.stackexchange.com/questions/13692/when-should-i-use-3d-convolutions)\n",
    "10. [3D Convolutional Networks for Traffic Forecasting](http://resuly.me/2019/12/18/3d-convolutional-networks-for-traffic-forecasting/)\n",
    "11. [Understanding Dimensions in CNNs](https://www.baeldung.com/cs/ml-understanding-dimensions-cnn)\n"
   ]
  },
  {
   "cell_type": "markdown",
   "id": "c62278f7",
   "metadata": {
    "id": "c62278f7"
   },
   "source": [
    "### Kernel Size of 2D Convolutions\n",
    "\n",
    "#### 3x3 Kernels\n",
    "\n",
    "Previously, we used 7x7 kernels in our ConvNet model. In practice, however, 3x3 kernels are much more often used. The reason is that they are computationally less expensive. For instance, one 5x5 kernel has the same receptive field as two 3x3 kernels. However, we have 18 parameters to tune for two 3x3 kernels, whereas we have 25 parameters for one 5x5 kernel. Moreover, we can introduce non-linearity two times if we use two 3x3 kernels instead of one with a 5x5 kernel size.  We will see that many convolutional neural network architectures use 3x3 kernels.\n",
    "\n",
    "\n",
    "#### 1x1 Kernels\n",
    "\n",
    "As we talked about above, we generally prefer stacking kernels with relatively small kernel sizes, this may cause the number of filters to get high and increase the computational cost. Convolution layers with 1x1 kernel size are used to tackle this problem by applying cross-channel pooling operation to reduce the dimensionality while keeping the height and weight of the feature maps the same.\n",
    "\n",
    "<img src=\"imgs/gif3.gif\" width=\"30%\">\n",
    "<a href=\"\"> Source </a>\n",
    "\n",
    "The 1x1 kernel slides the input and calculates a linear product for each pixel (we are multiplying the input by a constant). In some sense, it works in the same way that dense layers work since its receptive field captures all the input. These convolutions are particularly useful for downsampling the feature maps, for instance, image if we have 256 feature maps in one of the intermediate layers of our CNN network. We can use a 1x1 convolutional layer to keep the spatial dimensions of the feature map the same while reducing the number of filters by multiplying the input with a different kernel every time. Moreover, we will be also adding some non-linearity to our network since convolutional neural networks generally follow a non-linearity operation. Let's see a basic example."
   ]
  },
  {
   "cell_type": "code",
   "execution_count": null,
   "id": "a7494478",
   "metadata": {
    "id": "a7494478",
    "outputId": "2ac20120-d481-4729-9aa3-a27b87392f70"
   },
   "outputs": [
    {
     "name": "stdout",
     "output_type": "stream",
     "text": [
      "Model: \"sequential_3\"\n",
      "_________________________________________________________________\n",
      "Layer (type)                 Output Shape              Param #   \n",
      "=================================================================\n",
      "conv2d_13 (Conv2D)           (None, 128, 128, 256)     7168      \n",
      "_________________________________________________________________\n",
      "conv2d_14 (Conv2D)           (None, 128, 128, 128)     295040    \n",
      "_________________________________________________________________\n",
      "conv2d_15 (Conv2D)           (None, 128, 128, 64)      73792     \n",
      "=================================================================\n",
      "Total params: 376,000\n",
      "Trainable params: 376,000\n",
      "Non-trainable params: 0\n",
      "_________________________________________________________________\n"
     ]
    }
   ],
   "source": [
    "model = keras.models.Sequential()\n",
    "model.add(keras.layers.Conv2D(256, (3,3), padding='same', activation='relu', input_shape=(128, 128, 3)))\n",
    "model.add(keras.layers.Conv2D(128, (3,3), padding='same', activation='relu'))\n",
    "model.add(keras.layers.Conv2D(64, (3,3), padding='same', activation='relu'))\n",
    "model.summary()"
   ]
  },
  {
   "cell_type": "markdown",
   "id": "db7cf9ad",
   "metadata": {
    "id": "db7cf9ad"
   },
   "source": [
    "The model has 376.000 trainable parameters, now let's add a 1x1 convolution with 64 filters to see how this can reduce the computational costs."
   ]
  },
  {
   "cell_type": "code",
   "execution_count": null,
   "id": "d76c2848",
   "metadata": {
    "id": "d76c2848",
    "outputId": "1aed1e65-aae3-492d-974b-2791a134de41"
   },
   "outputs": [
    {
     "name": "stdout",
     "output_type": "stream",
     "text": [
      "Model: \"sequential_4\"\n",
      "_________________________________________________________________\n",
      "Layer (type)                 Output Shape              Param #   \n",
      "=================================================================\n",
      "conv2d_16 (Conv2D)           (None, 128, 128, 256)     7168      \n",
      "_________________________________________________________________\n",
      "conv2d_17 (Conv2D)           (None, 128, 128, 64)      16448     \n",
      "_________________________________________________________________\n",
      "conv2d_18 (Conv2D)           (None, 128, 128, 128)     73856     \n",
      "_________________________________________________________________\n",
      "conv2d_19 (Conv2D)           (None, 128, 128, 64)      73792     \n",
      "=================================================================\n",
      "Total params: 171,264\n",
      "Trainable params: 171,264\n",
      "Non-trainable params: 0\n",
      "_________________________________________________________________\n"
     ]
    }
   ],
   "source": [
    "model = keras.models.Sequential()\n",
    "model.add(keras.layers.Conv2D(256, (3,3), padding='same', activation='relu', input_shape=(128, 128, 3)))\n",
    "model.add(keras.layers.Conv2D(64, (1,1), activation='relu'))\n",
    "model.add(keras.layers.Conv2D(128, (3,3), padding='same', activation='relu'))\n",
    "model.add(keras.layers.Conv2D(64, (3,3), padding='same', activation='relu'))\n",
    "model.summary()"
   ]
  },
  {
   "cell_type": "markdown",
   "id": "23a2359d",
   "metadata": {
    "id": "23a2359d"
   },
   "source": [
    "We added a one-by-one convolutional layer just after the first layer. This layer takes 256 feature maps and multiplies them with 64 different filters and adds the bias term (parameter_size=256*64+64) and finally applies the non-linearity. You can see that we remarkably reduced the number of trainable parameters by using this convolutional layer. Later we will see that these layers are used in most convolutional neural network architectures such as InceptionNet and SquuezeNet.\n",
    "\n",
    "Moreover, these convolutional layers can also be used to increase the number of feature maps (just set the number of filters more than the previous layer)."
   ]
  },
  {
   "cell_type": "code",
   "execution_count": null,
   "id": "f497c452",
   "metadata": {
    "id": "f497c452",
    "outputId": "e240c8be-3b81-4f68-afa1-6c83f29a69e9"
   },
   "outputs": [
    {
     "name": "stdout",
     "output_type": "stream",
     "text": [
      "Model: \"sequential_5\"\n",
      "_________________________________________________________________\n",
      "Layer (type)                 Output Shape              Param #   \n",
      "=================================================================\n",
      "conv2d_20 (Conv2D)           (None, 128, 128, 256)     7168      \n",
      "_________________________________________________________________\n",
      "conv2d_21 (Conv2D)           (None, 128, 128, 512)     131584    \n",
      "_________________________________________________________________\n",
      "conv2d_22 (Conv2D)           (None, 128, 128, 128)     589952    \n",
      "_________________________________________________________________\n",
      "conv2d_23 (Conv2D)           (None, 128, 128, 64)      73792     \n",
      "=================================================================\n",
      "Total params: 802,496\n",
      "Trainable params: 802,496\n",
      "Non-trainable params: 0\n",
      "_________________________________________________________________\n"
     ]
    }
   ],
   "source": [
    "model = keras.models.Sequential()\n",
    "model.add(keras.layers.Conv2D(256, (3,3), padding='same', activation='relu', input_shape=(128, 128, 3)))\n",
    "model.add(keras.layers.Conv2D(512, (1,1), activation='relu'))\n",
    "model.add(keras.layers.Conv2D(128, (3,3), padding='same', activation='relu'))\n",
    "model.add(keras.layers.Conv2D(64, (3,3), padding='same', activation='relu'))\n",
    "model.summary()"
   ]
  },
  {
   "cell_type": "markdown",
   "id": "115ddfa8",
   "metadata": {
    "id": "115ddfa8"
   },
   "source": [
    "This can be used to restore the number of dimensions after downsampling the channels and feeding them to a different convolutional layer with a bigger kernel size, afterwards we may need to restore the dimensions so that the successive layers would work. 1x1 kernels were used for this purpose in ResidualNets, one of the commonly used convolutional neural network architectures that I will introduce in one of the following notebooks. Until then, I leave some sources below that you can check to learn more about 1x1 convolution.\n",
    "\n",
    "1. [Talented Mr. 1X1: Comprehensive look at 1X1 Convolution in Deep Learning](https://medium.com/analytics-vidhya/talented-mr-1x1-comprehensive-look-at-1x1-convolution-in-deep-learning-f6b355825578)\n",
    "2. [A Gentle Introduction to 1×1 Convolutions to Manage Model Complexity](https://machinelearningmastery.com/introduction-to-1x1-convolutions-to-reduce-the-complexity-of-convolutional-neural-networks/)\n",
    "3. [One by One [ 1 x 1 ] Convolution - counter-intuitively useful](https://iamaaditya.github.io/2016/03/one-by-one-convolution/)"
   ]
  },
  {
   "cell_type": "markdown",
   "id": "cc8e5f90",
   "metadata": {
    "id": "cc8e5f90"
   },
   "source": [
    "## Convolution-vs-Cross-Correlation\n",
    "\n",
    "\n",
    "I just want to briefly touch on this topic and refer those who are interested in the topic to additional sources. What we calculate in convolutional layers is not convolution but cross-correlation. Let's see what is the difference between these two closely related operation.\n",
    "\n",
    "Convolution is defined as the following:\n",
    "\n",
    "$$Z\\left[i,j\\right]=K * A=\\sum _{u=-k}^k\\sum _{v=-k}^kK\\left[u,v\\right]A\\left[i-u,j-v\\right]$$\n",
    "\n",
    "and cross-correlation defined as the following:\n",
    "\n",
    "$$Z\\left[i,j\\right]=K⊗A=\\sum _{u=-k}^k\\sum _{v=-k}^kK\\left[u,v\\right]A\\left[i+u,j+v\\right]$$\n",
    "\n",
    "As you can see, even though the two operations are closely related, there is a small difference. In convolution operation, we have a backward signal with respect to the filter, in other words, we reverse the kernel. On the other hand, the operation we did previously (calculating the element-wise multiplication, namely dot-product) is referred to as Cross-correlation. \n",
    "\n",
    "Let's see the differences between these two operations on an example."
   ]
  },
  {
   "cell_type": "code",
   "execution_count": null,
   "id": "b335c271",
   "metadata": {
    "id": "b335c271"
   },
   "outputs": [],
   "source": [
    "import tensorflow as tf\n",
    "tensor1 = tf.constant([[1.1,1.2,1.3,\n",
    "                              2.1,2.2,2.3,\n",
    "                              3.1,3.2,3.3]], dtype=tf.float16)"
   ]
  },
  {
   "cell_type": "code",
   "execution_count": null,
   "id": "bca17c61",
   "metadata": {
    "id": "bca17c61"
   },
   "outputs": [],
   "source": [
    "input_shape = (1, 3, 3, 1)\n",
    "x = tf.random.normal(input_shape,seed=42)"
   ]
  },
  {
   "cell_type": "code",
   "execution_count": null,
   "id": "5ec8635d",
   "metadata": {
    "id": "5ec8635d",
    "outputId": "4241f1e4-b04b-45f3-e1d9-9196f0a9d859"
   },
   "outputs": [
    {
     "data": {
      "text/plain": [
       "TensorShape([1, 3, 3, 1])"
      ]
     },
     "execution_count": 20,
     "metadata": {},
     "output_type": "execute_result"
    }
   ],
   "source": [
    "x.shape"
   ]
  },
  {
   "cell_type": "markdown",
   "id": "25598ffe",
   "metadata": {
    "id": "25598ffe"
   },
   "source": [
    "I will first apply `tf.keras.layers.Conv2D()` on the random data that I generated above. Then I will use `scipy.signal.convolve2d()` to show how the result of the convolution operation would differ compared to the one we get from `tf.keras.layers.Conv2D()`."
   ]
  },
  {
   "cell_type": "code",
   "execution_count": null,
   "id": "cbd83f2d",
   "metadata": {
    "id": "cbd83f2d",
    "outputId": "afe6403e-fabc-4f80-b480-b9198401ce07"
   },
   "outputs": [
    {
     "data": {
      "text/plain": [
       "<tf.Tensor: shape=(1, 1, 1, 1), dtype=float32, numpy=array([[[[0.46937534]]]], dtype=float32)>"
      ]
     },
     "execution_count": 27,
     "metadata": {},
     "output_type": "execute_result"
    }
   ],
   "source": [
    "cnn_layer = tf.keras.layers.Conv2D(filters=1, kernel_size=3)\n",
    "featuremap=cnn_layer(x)\n",
    "featuremap"
   ]
  },
  {
   "cell_type": "code",
   "execution_count": null,
   "id": "b02491b4",
   "metadata": {
    "id": "b02491b4"
   },
   "outputs": [],
   "source": [
    "kernel = cnn_layer.get_weights()[0][:,:,:,0].squeeze() "
   ]
  },
  {
   "cell_type": "code",
   "execution_count": null,
   "id": "21c74824",
   "metadata": {
    "id": "21c74824"
   },
   "outputs": [],
   "source": [
    "from scipy.signal import correlate2d, convolve2d"
   ]
  },
  {
   "cell_type": "code",
   "execution_count": null,
   "id": "aa9a76ad",
   "metadata": {
    "id": "aa9a76ad",
    "outputId": "a03a5347-3895-46dd-ef36-935b6c4add22"
   },
   "outputs": [
    {
     "data": {
      "text/plain": [
       "array([[ 1.6791782 , -1.328862  , -0.34148172],\n",
       "       [ 1.269239  ,  0.44456086, -0.64679176],\n",
       "       [ 1.3139213 ,  0.6143924 ,  1.2225105 ]], dtype=float32)"
      ]
     },
     "execution_count": 30,
     "metadata": {},
     "output_type": "execute_result"
    }
   ],
   "source": [
    "import numpy as np\n",
    "np.squeeze(x) # I need to squueze the data since convolve2d expects a different shape than Conv2D."
   ]
  },
  {
   "cell_type": "code",
   "execution_count": null,
   "id": "276d2a3d",
   "metadata": {
    "id": "276d2a3d"
   },
   "outputs": [],
   "source": [
    "result_crosscorrelation=correlate2d(np.squeeze(x),kernel,mode=\"valid\")"
   ]
  },
  {
   "cell_type": "code",
   "execution_count": null,
   "id": "b35d8b7d",
   "metadata": {
    "id": "b35d8b7d",
    "outputId": "e1542f23-b67f-48cb-e6cc-e0c5bcbe9d36"
   },
   "outputs": [
    {
     "data": {
      "text/plain": [
       "array([[0.46937534]], dtype=float32)"
      ]
     },
     "execution_count": 32,
     "metadata": {},
     "output_type": "execute_result"
    }
   ],
   "source": [
    "result_crosscorrelation"
   ]
  },
  {
   "cell_type": "markdown",
   "id": "e2cf93d6",
   "metadata": {
    "id": "e2cf93d6"
   },
   "source": [
    "As you can see `tf.keras.layers.Conv2D()` and `scipy.signal.correlate2d()` gave the same result. What about `scipy.signal.convolve2d()`?"
   ]
  },
  {
   "cell_type": "code",
   "execution_count": null,
   "id": "44acf549",
   "metadata": {
    "id": "44acf549"
   },
   "outputs": [],
   "source": [
    "result_conv=convolve2d(np.squeeze(x),kernel,mode=\"valid\")"
   ]
  },
  {
   "cell_type": "code",
   "execution_count": null,
   "id": "bf78a77b",
   "metadata": {
    "id": "bf78a77b",
    "outputId": "6bf0e473-3891-4a27-8e13-64e19af4e6ab"
   },
   "outputs": [
    {
     "data": {
      "text/plain": [
       "array([[-1.3618379]], dtype=float32)"
      ]
     },
     "execution_count": 34,
     "metadata": {},
     "output_type": "execute_result"
    }
   ],
   "source": [
    "result_conv"
   ]
  },
  {
   "cell_type": "markdown",
   "id": "fb40b5bd",
   "metadata": {
    "id": "fb40b5bd"
   },
   "source": [
    "As you can see the result is different. Let's reverse the input and see if we will get the same result."
   ]
  },
  {
   "cell_type": "code",
   "execution_count": null,
   "id": "3410e30d",
   "metadata": {
    "id": "3410e30d",
    "outputId": "47b874f2-dab7-4dd5-e069-b52b6941fc8e"
   },
   "outputs": [
    {
     "data": {
      "text/plain": [
       "array([[ 1.3139213 ,  0.6143924 ,  1.2225105 ],\n",
       "       [ 1.269239  ,  0.44456086, -0.64679176],\n",
       "       [ 1.6791782 , -1.328862  , -0.34148172]], dtype=float32)"
      ]
     },
     "execution_count": 35,
     "metadata": {},
     "output_type": "execute_result"
    }
   ],
   "source": [
    "input_vertical=np.flipud(np.squeeze(x))\n",
    "input_vertical"
   ]
  },
  {
   "cell_type": "code",
   "execution_count": null,
   "id": "97481c8b",
   "metadata": {
    "id": "97481c8b",
    "outputId": "29e6cd0a-9c15-4e8e-9f5f-b8781d4d2f59"
   },
   "outputs": [
    {
     "data": {
      "text/plain": [
       "array([[ 1.2225105 ,  0.6143924 ,  1.3139213 ],\n",
       "       [-0.64679176,  0.44456086,  1.269239  ],\n",
       "       [-0.34148172, -1.328862  ,  1.6791782 ]], dtype=float32)"
      ]
     },
     "execution_count": 36,
     "metadata": {},
     "output_type": "execute_result"
    }
   ],
   "source": [
    "input_horizontal=np.fliplr(input_vertical)\n",
    "input_horizontal"
   ]
  },
  {
   "cell_type": "code",
   "execution_count": null,
   "id": "1d2ce9bb",
   "metadata": {
    "id": "1d2ce9bb",
    "outputId": "cf7f19b4-a825-436c-c193-f9eaf59938f1"
   },
   "outputs": [
    {
     "data": {
      "text/plain": [
       "array([[0.46937534]], dtype=float32)"
      ]
     },
     "execution_count": 37,
     "metadata": {},
     "output_type": "execute_result"
    }
   ],
   "source": [
    "result_conv2=convolve2d(input_horizontal,kernel,mode=\"valid\")\n",
    "result_conv2"
   ]
  },
  {
   "cell_type": "markdown",
   "id": "19ad3517",
   "metadata": {
    "id": "19ad3517"
   },
   "source": [
    "Would flipping the kernel work as well? "
   ]
  },
  {
   "cell_type": "code",
   "execution_count": null,
   "id": "8ad7d2fe",
   "metadata": {
    "id": "8ad7d2fe",
    "outputId": "37d7d951-31ff-4a72-d520-99c970054ac6"
   },
   "outputs": [
    {
     "data": {
      "text/plain": [
       "array([[0.46937552]], dtype=float32)"
      ]
     },
     "execution_count": 38,
     "metadata": {},
     "output_type": "execute_result"
    }
   ],
   "source": [
    "kernel_vertical=np.flipud(kernel)\n",
    "kernel_horizontal=np.fliplr(kernel_vertical)\n",
    "result_conv2=convolve2d(np.squeeze(x),kernel_horizontal,mode=\"valid\")\n",
    "result_conv2"
   ]
  },
  {
   "cell_type": "markdown",
   "id": "d32d8e1a",
   "metadata": {
    "id": "d32d8e1a"
   },
   "source": [
    "You can see we get the same result when we flip the kernel as well, so it doesn't really matter if you reverse the kernel or the input (yes there is a little difference but this is not that important). \n",
    "\n",
    "Moreover, cross correlation and convolution operations can result in the same output in some cases.\n",
    "\n",
    "* If the weight vector is symmetric, as is often the case, then cross correlation and convolution are the same. - **Murphy, K. P. (2022)**"
   ]
  },
  {
   "cell_type": "code",
   "execution_count": null,
   "id": "21715b55",
   "metadata": {
    "id": "21715b55",
    "outputId": "c2282420-ddc6-465a-c874-6b35b965efea"
   },
   "outputs": [
    {
     "data": {
      "text/plain": [
       "array([[1, 2, 3],\n",
       "       [2, 1, 2],\n",
       "       [3, 2, 1]])"
      ]
     },
     "execution_count": 41,
     "metadata": {},
     "output_type": "execute_result"
    }
   ],
   "source": [
    "sym_kernel = np.array([[1, 2, 3], \n",
    "              [2, 1, 2],\n",
    "              [3, 2, 1]])\n",
    "sym_kernel"
   ]
  },
  {
   "cell_type": "code",
   "execution_count": null,
   "id": "63d1c140",
   "metadata": {
    "id": "63d1c140",
    "outputId": "1c8ca5b0-57d2-486f-e065-60853379ce20"
   },
   "outputs": [
    {
     "data": {
      "text/plain": [
       "array([[1, 2, 3],\n",
       "       [2, 1, 2],\n",
       "       [3, 2, 1]])"
      ]
     },
     "execution_count": 42,
     "metadata": {},
     "output_type": "execute_result"
    }
   ],
   "source": [
    "np.transpose(sym_kernel)"
   ]
  },
  {
   "cell_type": "markdown",
   "id": "928117d9",
   "metadata": {
    "id": "928117d9"
   },
   "source": [
    "We can conclude this kernel is symmetric since its transpose equals to the original kernel."
   ]
  },
  {
   "cell_type": "code",
   "execution_count": null,
   "id": "dca2549c",
   "metadata": {
    "id": "dca2549c",
    "outputId": "4943f77c-7536-49fa-c795-d312339ef32a"
   },
   "outputs": [
    {
     "data": {
      "text/plain": [
       "array([[6.07952368]])"
      ]
     },
     "execution_count": 44,
     "metadata": {},
     "output_type": "execute_result"
    }
   ],
   "source": [
    "result_crosscorrelation=correlate2d(np.squeeze(x),sym_kernel,mode=\"valid\")\n",
    "result_crosscorrelation"
   ]
  },
  {
   "cell_type": "code",
   "execution_count": null,
   "id": "49fbae36",
   "metadata": {
    "id": "49fbae36",
    "outputId": "289488c0-b261-4801-99e0-511a38e84b95"
   },
   "outputs": [
    {
     "data": {
      "text/plain": [
       "array([[6.07952368]])"
      ]
     },
     "execution_count": 45,
     "metadata": {},
     "output_type": "execute_result"
    }
   ],
   "source": [
    "result_conv=convolve2d(np.squeeze(x),sym_kernel,mode=\"valid\")\n",
    "result_conv"
   ]
  },
  {
   "cell_type": "markdown",
   "id": "7fc74aa5",
   "metadata": {
    "id": "7fc74aa5"
   },
   "source": [
    "We again get the same result when the kernel is symmetric.\n",
    "\n",
    "For learning more about cross-correlation, check out the links below (I strongly recommend watching the first video):\n",
    "1. [What's The Difference Between Cross-Correlation And Convolution?](https://www.youtube.com/watch?v=xbO-iIzkBy0)\n",
    "2. [The difference between convolution and cross-correlation from a signal-analysis point of view](https://dsp.stackexchange.com/questions/27451/the-difference-between-convolution-and-cross-correlation-from-a-signal-analysis)\n",
    "3. [Do convolutional neural networks perform convolution or cross-correlation?](https://ai.stackexchange.com/questions/21999/do-convolutional-neural-networks-perform-convolution-or-cross-correlation)"
   ]
  },
  {
   "cell_type": "markdown",
   "id": "4b6b8e41",
   "metadata": {
    "id": "4b6b8e41"
   },
   "source": [
    "## Effective Receptive Field\n",
    "\n",
    "We previously talked about the receptive field, which refers to the local region of the input image or previous layer that a neuron is connected to, on the other hand, this term is a bit more complicated than it seems and generally, it is subdivided into two main categories: Theoretical Receptive Field and Effective Receptive Field.\n",
    "\n",
    "Theoretical Receptive Field refers to the less-or-more same thing we know as the receptive field. It is defined in terms of kernel and strides.\n",
    "\n",
    "$$r_0=\\sum _{l=0}^k\\:\\left(\\left(k_l-1\\right)\\prod _{i=1}^{l-1}\\left(s_i\\right)\\right)+1$$\n",
    "\n",
    "However, there is another version of the receptive field that refers to the subset of the input region that is directly affecting a neuron. The idea is that the center of the receptive field will have more weight than the peripheral region because the information in the central pixel can be propagated along multiple neurons in our network pathway, whereas pixels in the outer area are propagated along less number of paths.\n",
    "\n",
    "* “In the forward pass, central pixels can propagate information to the output through many different paths, while the pixels in the outer area of the receptive field have very few paths to propagate its impact. In the backward pass, gradients from an output unit are propagated across all the paths, and therefore the central pixels have a much larger magnitude for the gradient from that output.” ~ by [Luo et al. 2016](https://arxiv.org/abs/1701.04128).\n",
    "\n",
    "This receptive field is called Effective Receptive Field and it is dependent on the input (so different output results in different ERF). In the paper, they state that the ERF grows slower than the theoretical effective field, as well as the ERF is increased after the training, meaning that we also minimize the gap between the theoretical receptive field and ERF during training. Moreover, the theoretical receptive field follows a Gaussian distribution, whereas ERF follows a pseudo-gaussian distribution thanks to the linearity we introduced during the training.\n",
    "\n",
    "The receptive field is an important concept because we ideally would want our network not to omit any crucial information. I encourage you to read the following articles I share to get a broader view about the Receptive Field.\n",
    "\n",
    "Additional Resources:\n",
    "\n",
    "1. [Understanding the receptive field of deep convolutional networks](https://theaisummer.com/receptive-field/#understanding-the-effective-receptive-field)\n",
    "2. [Understanding the Effective Receptive Field in Deep Convolutional Neural Networks](https://ahmdtaha.medium.com/understanding-the-effective-receptive-field-in-deep-convolutional-neural-networks-b2642297927e)\n",
    "3. [Computing Receptive Fields of Convolutional Neural Networks](https://distill.pub/2019/computing-receptive-fields/)\n",
    "4. [A guide to receptive field arithmetic for Convolutional Neural Networks](https://blog.mlreview.com/a-guide-to-receptive-field-arithmetic-for-convolutional-neural-networks-e0f514068807)"
   ]
  },
  {
   "cell_type": "markdown",
   "id": "57b5cbe9",
   "metadata": {
    "id": "57b5cbe9"
   },
   "source": [
    "## Anology to Biological Neurons\n",
    "\n",
    "Okay, we are done with Convolutional layers (at least for a bit of a while), however, I am a biologist so I cannot help myself from giving some bit of information about the analogy of CNNs to biological neurons as well as the idea of the neocognitron. Most of our current understanding of human vision comes from the work of two Nobel-prized researchers, namely David H. Hubel and Torsten Wiesel at Harvard Medical School. They used microelectrodes on anesthetized animals (cats and monkeys) to recode the responses of individual neurons to various patterns of retinal stimulation. They particularly found that neurons in the visual cortex respond to local receptive fields, furthermore, the responses of neurons in the visual cortex respond selectively to the orientation of edges as illustrated below from the experiment setup of Hubel and Wisel."
   ]
  },
  {
   "cell_type": "markdown",
   "id": "009fc08c",
   "metadata": {
    "id": "009fc08c"
   },
   "source": [
    "<img src=\"imgs/image5.png\" width=\"90%\">\n",
    "\n",
    "<a href=\"https://global.oup.com/ushe/product/neuroscience-9781605353807?q=9781605353807&lang=en&cc=us\"> Source </a>"
   ]
  },
  {
   "cell_type": "markdown",
   "id": "4d3a9e7c",
   "metadata": {
    "id": "4d3a9e7c"
   },
   "source": [
    "In their experiments, they also found that the orientations were encoded by distinct neuron populations. These neurons were more or less equally represented in the visual cortex and also showed that some neurons have longer receptive fields and react to more complex patterns."
   ]
  },
  {
   "cell_type": "markdown",
   "id": "76d19fd2",
   "metadata": {
    "id": "76d19fd2"
   },
   "source": [
    "<img src=\"imgs/image6.png\" width=\"50%\">\n",
    "\n",
    "<a href=\"https://global.oup.com/ushe/product/neuroscience-9781605353807?q=9781605353807&lang=en&cc=us\"> Source </a>"
   ]
  },
  {
   "cell_type": "markdown",
   "id": "06f6ff91",
   "metadata": {
    "id": "06f6ff91"
   },
   "source": [
    "* Each class of orientation-selective neuron transmits only a fraction ofthe information in the scene, the part that matches its filter properties but the information from these different filters contains all the spatial information necessary to generate a faithful representation of the original image. Orientation preference is only one of the qualities that define the filter properties of neurons in primary visual cortex. A substantial fraction of cortical neurons are also tuned to the direction of stimulus motion, for example, responding much more vigorously when a stimulus moves to the right than when it moves to the left. Neurons can also be characterized by their preference for spatial frequency (the coarseness or fineness of the variations in contrast that fall within their receptive fields) as well as temporal frequency (rate of change in contrast). Why should cortical neurons show selectivity for these particular stimulus dimensions? Computational analyses suggest that receptive fields with properties such as these are well matched to the statistical structure of natural scenes and would therefore maximize the amount of information transferred with a minimum of redundancy. - [PURVES, Dale, et al. Neuroscience](https://global.oup.com/ushe/product/neuroscience-9781605353807?q=9781605353807&lang=en&cc=us)"
   ]
  },
  {
   "cell_type": "markdown",
   "id": "012fcb26",
   "metadata": {
    "id": "012fcb26"
   },
   "source": [
    "The observations of Hubel and Wiesel inspired Kunihiko Fukushima in 1979 and he introduced the Neocognitron model represented below.\n",
    "\n",
    "<img src=\"imgs/image4.png\" width=\"50%\">\n",
    "<a href=\"https://www.researchgate.net/publication/221306526_Processing_Neocognitron_of_Face_Recognition_on_High_Performance_Environment_Based_on_GPU_with_CUDA_Architecture\"> Source </a>\n",
    "\n",
    "This model is mostly composed of two different cell types: S cells that work as feature extractors and C cells that evaluate the outputs of S cells. This neocognitron model gradually evolved into the Convolutional Neural Networks and research on this neural network type has gone extensively deeper after Yann LeCun introduced LeNet-5 architecture in 1998. This architecture was extensively used for recognizing hand-written digits on checks. In the next notebook, we will be starting learning about the most popular Convolutional Neural Network architectures starting from LeNet-5. Until then, have fun :)\n",
    "\n",
    "Additional Resources about Noecognitron:\n",
    "\n",
    "1. [Neocognitron](http://www.scholarpedia.org/article/Neocognitron)\n",
    "2. [11. C-cell function](https://www.kiv.zcu.cz/studies/predmety/uir/NS/Neocognitron/en/func-C-cell.html)\n",
    "3. [Neocognitron: A Self-organizing Neural Network Model for a Mechanism of Pattern Recognition Unaffected by Shift in Position](https://www.rctn.org/bruno/public/papers/Fukushima1980.pdf)"
   ]
  },
  {
   "cell_type": "markdown",
   "id": "70f48793",
   "metadata": {
    "id": "70f48793"
   },
   "source": [
    "## General References\n",
    "\n",
    "The references below are the main sources I used for preparing the notebooks in this repository. \n",
    "\n",
    "1. Murphy, K. P. (2022). Probabilistic machine learning: an introduction. MIT press.\n",
    "2. Géron, A. (2022). Hands-on machine learning with Scikit-Learn, Keras, and TensorFlow. \" O'Reilly Media, Inc.\".\n",
    "3. Chollet, F. (2021). Deep learning with Python. Simon and Schuster.\n",
    "4. Kar, K. (2020). Mastering Computer Vision with TensorFlow 2. x: Build advanced computer vision applications using machine learning and deep learning techniques. Packt Publishing Ltd.\n",
    "5. Planche, B., & Andres, E. (2019). Hands-On Computer Vision with TensorFlow 2: Leverage deep learning to create powerful image processing apps with TensorFlow 2.0 and Keras. Packt Publishing Ltd.\n",
    "6. Lakshmanan, V., Görner, M., & Gillard, R. (2021). Practical Machine Learning for Computer Vision. \" O'Reilly Media, Inc.\"."
   ]
  }
 ],
 "metadata": {
  "accelerator": "GPU",
  "colab": {
   "provenance": []
  },
  "gpuClass": "standard",
  "kernelspec": {
   "display_name": "Python 3 (ipykernel)",
   "language": "python",
   "name": "python3"
  },
  "language_info": {
   "codemirror_mode": {
    "name": "ipython",
    "version": 3
   },
   "file_extension": ".py",
   "mimetype": "text/x-python",
   "name": "python",
   "nbconvert_exporter": "python",
   "pygments_lexer": "ipython3",
   "version": "3.8.8"
  }
 },
 "nbformat": 4,
 "nbformat_minor": 5
}
